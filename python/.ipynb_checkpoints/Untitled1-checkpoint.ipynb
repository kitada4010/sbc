{
 "cells": [
  {
   "cell_type": "code",
   "execution_count": 34,
   "metadata": {
    "collapsed": true
   },
   "outputs": [],
   "source": [
    "import numpy as np\n",
    "import matplotlib.pyplot as plt\n",
    "import pandas as pd\n",
    "import pickle\n",
    "import csv\n",
    "%matplotlib inline\n",
    "%config InlineBackend.figure_format = 'retina'\n",
    "#vine linux\n",
    "#f = pd.read_csv('/home/hera/nodoka/home2/nodoka/spike-data/25kHz-data/B36 Rd.csv',header=None)\n",
    "#f.to_pickle('/home/nodoka/spike-data/25kHz-data/B36 Rd.pickle')\n",
    "\n",
    "#mac\n",
    "f = pd.read_csv('/Volumes/NO NAME/25kHz-data/B36 Rd.csv',header=None)\n",
    "f.to_pickle('/Volumes/NO NAME/25kHz-data/B36 Rd.pickle')\n",
    "\n",
    "#ubuntu\n",
    "#f = pd.read_csv('/home/hera/nodoka/home2/nodoka/spike-data/25kHz-data/B36 Rd.csv',header=None)\n",
    "#f.to_pickle('/home/nodoka/spike-data/25kHz-data/B36 Rd.pickle')"
   ]
  },
  {
   "cell_type": "code",
   "execution_count": 17,
   "metadata": {},
   "outputs": [
    {
     "name": "stdout",
     "output_type": "stream",
     "text": [
      "[ 0.02686  0.04639 -0.08301 ..., -0.13184 -0.18311 -0.15137]\n"
     ]
    },
    {
     "data": {
      "image/png": "[encoded data removed]",
      "text/plain": [
       "<matplotlib.figure.Figure at 0x1155391d0>"
      ]
     },
     "metadata": {},
     "output_type": "display_data"
    }
   ],
   "source": [
    "import pickle\n",
    "import numpy as np\n",
    "import wave\n",
    "from pylab import *\n",
    "#with open('/home/hera/nodoka/home2/nodoka/spike-data/25kHz-data/B36 Rd.pickle', mode='rb') as fp:\n",
    "#with open('/home/hera/nodoka/home2/nodoka/spike-data/25kHz-data/B36 Rd.pickle', mode='rb') as fp:\n",
    "with open('/Volumes/NO NAME/25kHz-data/B36 Rd.pickle',mode='rb') as fp:\n",
    "    df = pickle.load(fp)\n",
    "\n",
    "#start = int(58.59/0.00004)\n",
    "#end = int(197.47/0.00004)\n",
    "#start = int(167.39/0.00004)\n",
    "#end = int(272.67/0.00004)\n",
    "#start = int(881.13744/0.00004)\n",
    "#end = int(881.35202/0.00004)\n",
    "start = int(889.13744/0.00004)\n",
    "end = int(889.35202/0.00004)\n",
    "\n",
    "plt.plot(df[start:end])\n",
    "\n",
    "#data = df.dataframe([0], dtype='float')\n",
    "#data = (pd.Series(df[start:end], dtype=np.float64))\n",
    "#data = df.as_matrix(0,)#[start:end]\n",
    "specdatab = np.array(df[start:end])\n",
    "specdataa = specdatab.flatten()\n",
    "fp.close\n",
    "print(specdataa)\n",
    "N = 128\n",
    "hammingWindow = np.hamming(N)\n",
    "samplingrate = 25000\n",
    "length = (end - start)/samplingrate\n",
    "\n",
    "# FFTで用いるハミング窓\n",
    "hammingWindow = np.hamming(N)\n",
    "\n",
    "# スペクトログラムを描画\n",
    "pxx, freqs, bins, im = plt.specgram(specdataa, NFFT=N, Fs=samplingrate, noverlap=0, window=hammingWindow)\n",
    "axis([0, length, 0, samplingrate / 2])\n",
    "xlabel(\"time [second]\")\n",
    "plt.ylim([0,1000])\n",
    "ylabel(\"frequency [Hz]\")\n",
    "plt.colorbar()\n",
    "\n",
    "show()\n"
   ]
  }
 ],
 "metadata": {
  "kernelspec": {
   "display_name": "Python 3",
   "language": "python",
   "name": "python3"
  },
  "language_info": {
   "codemirror_mode": {
    "name": "ipython",
    "version": 3
   },
   "file_extension": ".py",
   "mimetype": "text/x-python",
   "name": "python",
   "nbconvert_exporter": "python",
   "pygments_lexer": "ipython3",
   "version": "3.6.1"
  }
 },
 "nbformat": 4,
 "nbformat_minor": 2
}
