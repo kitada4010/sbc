{
 "cells": [
  {
   "cell_type": "code",
   "execution_count": 3,
   "metadata": {},
   "outputs": [],
   "source": [
    "#エクセルファイルの変換を目指して\n",
    "import pandas as pd\n",
    "import numpy as np\n",
    "import matplotlib.pyplot as plt\n",
    "%matplotlib inline\n",
    "import sys\n",
    "import math"
   ]
  },
  {
   "cell_type": "code",
   "execution_count": 4,
   "metadata": {},
   "outputs": [],
   "source": [
    "#ファイルの読み込み\n",
    "file_name1 = 'B39 restraint R2'\n",
    "file_name2 = 'B39 restraint R3'\n",
    "file1 = pd.ExcelFile(file_name1+'.xlsx')\n",
    "file2 = pd.ExcelFile(file_name2+'.xlsx')\n",
    "\n",
    "sheet_df1 = file1.parse(file1.sheet_names, header=None)\n",
    "sheet_df2 = file2.parse(file2.sheet_names, header=None)\n",
    "\n",
    "#cmap = plt.get_cmap(\"tab20\")\n",
    "\n",
    "sheet_names1 = file1.sheet_names\n",
    "sheet_names2 = file2.sheet_names\n"
   ]
  },
  {
   "cell_type": "code",
   "execution_count": 7,
   "metadata": {},
   "outputs": [],
   "source": [
    "def inspect(time_leng, pattern_leng, top_print):\n",
    "    #ファイル1のデータカウント\n",
    "    pattern_dict1 = {}\n",
    "    for i, name in enumerate(sheet_names1):\n",
    "        sheet_df1[i] = file1.parse(name)\n",
    "        end_number = (np.where(sheet_df1[i]['INFORMATION']==\"CHANNEL\")[0][1])\n",
    "        sig1 = (sheet_df1[i]['Unnamed: 3'][24:end_number-5])\n",
    "        leng = end_number - 5 -24 - time_leng\n",
    "        psth = np.empty(leng, dtype=np.int)\n",
    "        for k in range(leng) :\n",
    "            psth[k] = sig1[k : k+time_leng].sum()\n",
    "        for k in range(len(psth) - pattern_leng + 1) :\n",
    "            if (str(psth[k : k+ pattern_leng]) in pattern_dict1) : \n",
    "                pattern_dict1[str(psth[k : k+ pattern_leng])] += 1\n",
    "            else : \n",
    "                pattern_dict1[str(psth[k : k+ pattern_leng])] = 1\n",
    "\n",
    "    \n",
    "    #ファイル2のデータカウント\n",
    "    pattern_dict2 = {}\n",
    "    for i, name in enumerate(sheet_names2):\n",
    "        sheet_df2[i] = file2.parse(name)\n",
    "        end_number = (np.where(sheet_df2[i]['INFORMATION']==\"CHANNEL\")[0][1])\n",
    "        sig1 = (sheet_df2[i]['Unnamed: 3'][24:end_number-5])\n",
    "        leng = end_number - 5 -24 - time_leng\n",
    "        psth = np.empty(leng, dtype=np.int)\n",
    "        for k in range(leng) :\n",
    "            psth[k] = sig1[k : k+time_leng].sum()\n",
    "        for k in range(len(psth) - pattern_leng + 1) :\n",
    "            if (str(psth[k : k+ pattern_leng]) in pattern_dict2) : \n",
    "                pattern_dict2[str(psth[k : k+ pattern_leng])] += 1\n",
    "            else : \n",
    "                pattern_dict2[str(psth[k : k+ pattern_leng])] = 1\n",
    "\n",
    "\n",
    "    #情報量の計算準備\n",
    "    pattern_information =  0.0 \n",
    "    sum_pattern1 = sum(pattern_dict1.values())\n",
    "    sum_pattern2 = sum(pattern_dict2.values())\n",
    "    pattern1 = len(pattern_dict1.keys())\n",
    "    probability1 = np.zeros(pattern1, float)\n",
    "    probability2 = np.zeros(pattern1, float)\n",
    "    top_dict = {}\n",
    "    k = 0\n",
    "    for i in (pattern_dict1.keys()) :\n",
    "        if (i in pattern_dict2) :\n",
    "            probability1[k] = (pattern_dict1[i] / sum_pattern1)\n",
    "            probability2[k] = (pattern_dict2[i] / sum_pattern2)\n",
    "            pattern_information += probability1[k] * math.log2(probability1[k]/probability2[k])\n",
    "            top_dict[i] = probability1[k] * math.log2(probability1[k]/probability2[k])\n",
    "            k += 1\n",
    "\n",
    "    if (k < top_print) :\n",
    "        top_print = k\n",
    "    #グラフ出力の準備\n",
    "    print_probability1 = np.zeros(top_print, float)\n",
    "    print_probability2 = np.zeros(top_print, float)\n",
    "    print_pattern = []\n",
    "    k = 0\n",
    "    for i, v in sorted(top_dict.items(), key=lambda x:x[1])[0:top_print] :\n",
    "        print_probability1[k] = (pattern_dict1[i] / sum_pattern1)\n",
    "        print_probability2[k] = (pattern_dict2[i] / sum_pattern2)\n",
    "        print_pattern.append(i)\n",
    "        k += 1\n",
    "\n",
    "    #グラフ出力\n",
    "    fig = plt.figure(figsize=(10, 5), dpi=600)\n",
    "    ax = fig.gca()\n",
    "    plt.bar(print_pattern, print_probability2, color=\"red\")\n",
    "    plt.bar(print_pattern, print_probability1, color=\"blue\")\n",
    "    plt.xlim(-0.5, top_print-0.5)\n",
    "    ax.set_xticklabels(print_pattern, rotation=90)\n",
    "    plt.savefig(\"/st9/b009vb/seminar-graph/time-leng/\" + str(time_leng) + \".png\")\n",
    "    plt.show()\n",
    "    return pattern_information"
   ]
  },
  {
   "cell_type": "code",
   "execution_count": 2,
   "metadata": {},
   "outputs": [
    {
     "ename": "NameError",
     "evalue": "name 'np' is not defined",
     "output_type": "error",
     "traceback": [
      "\u001b[0;31m---------------------------------------------------------------------------\u001b[0m",
      "\u001b[0;31mNameError\u001b[0m                                 Traceback (most recent call last)",
      "\u001b[0;32m<ipython-input-2-768d302d209d>\u001b[0m in \u001b[0;36m<module>\u001b[0;34m\u001b[0m\n\u001b[1;32m      1\u001b[0m \u001b[0mparameter\u001b[0m \u001b[0;34m=\u001b[0m \u001b[0;36m500\u001b[0m\u001b[0;34m\u001b[0m\u001b[0;34m\u001b[0m\u001b[0m\n\u001b[0;32m----> 2\u001b[0;31m \u001b[0mkullback\u001b[0m \u001b[0;34m=\u001b[0m \u001b[0mnp\u001b[0m\u001b[0;34m.\u001b[0m\u001b[0mzeros\u001b[0m\u001b[0;34m(\u001b[0m\u001b[0mparameter\u001b[0m\u001b[0;34m,\u001b[0m \u001b[0mfloat\u001b[0m\u001b[0;34m)\u001b[0m\u001b[0;34m\u001b[0m\u001b[0;34m\u001b[0m\u001b[0m\n\u001b[0m\u001b[1;32m      3\u001b[0m \u001b[0;32mfor\u001b[0m \u001b[0mi\u001b[0m \u001b[0;32min\u001b[0m \u001b[0mrange\u001b[0m\u001b[0;34m(\u001b[0m\u001b[0;36m1\u001b[0m\u001b[0;34m,\u001b[0m \u001b[0mparameter\u001b[0m\u001b[0;34m+\u001b[0m\u001b[0;36m1\u001b[0m\u001b[0;34m)\u001b[0m\u001b[0;34m:\u001b[0m\u001b[0;34m\u001b[0m\u001b[0;34m\u001b[0m\u001b[0m\n\u001b[1;32m      4\u001b[0m     \u001b[0mkullback\u001b[0m\u001b[0;34m[\u001b[0m\u001b[0mi\u001b[0m\u001b[0;34m-\u001b[0m\u001b[0;36m1\u001b[0m\u001b[0;34m]\u001b[0m \u001b[0;34m=\u001b[0m \u001b[0minspect\u001b[0m\u001b[0;34m(\u001b[0m\u001b[0mi\u001b[0m\u001b[0;34m,\u001b[0m \u001b[0;36m50\u001b[0m\u001b[0;34m,\u001b[0m \u001b[0;36m20\u001b[0m\u001b[0;34m)\u001b[0m\u001b[0;34m\u001b[0m\u001b[0;34m\u001b[0m\u001b[0m\n",
      "\u001b[0;31mNameError\u001b[0m: name 'np' is not defined"
     ]
    }
   ],
   "source": [
    "parameter = 2\n",
    "kullback = np.zeros(parameter, float)\n",
    "for i in range(1, parameter+1):\n",
    "    kullback[i-1] = inspect(i, 50, 20)"
   ]
  },
  {
   "cell_type": "code",
   "execution_count": 13,
   "metadata": {},
   "outputs": [
    {
     "data": {
      "text/plain": [
       "[<matplotlib.lines.Line2D at 0x7f76a827a438>]"
      ]
     },
     "execution_count": 13,
     "metadata": {},
     "output_type": "execute_result"
    },
    {
     "data": {
      "image/png": "[encoded data removed]",
      "text/plain": [
       "<Figure size 432x288 with 1 Axes>"
      ]
     },
     "metadata": {
      "needs_background": "light"
     },
     "output_type": "display_data"
    }
   ],
   "source": [
    "plt.plot(kullback)"
   ]
  }
 ],
 "metadata": {
  "kernelspec": {
   "display_name": "Python 3",
   "language": "python",
   "name": "python3"
  },
  "language_info": {
   "codemirror_mode": {
    "name": "ipython",
    "version": 3
   },
   "file_extension": ".py",
   "mimetype": "text/x-python",
   "name": "python",
   "nbconvert_exporter": "python",
   "pygments_lexer": "ipython3",
   "version": "3.7.7"
  }
 },
 "nbformat": 4,
 "nbformat_minor": 2
}
