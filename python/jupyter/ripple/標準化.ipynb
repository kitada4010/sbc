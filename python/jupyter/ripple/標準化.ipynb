{
 "cells": [
  {
   "cell_type": "code",
   "execution_count": 1,
   "metadata": {},
   "outputs": [],
   "source": [
    "number='C18'\n",
    "epi='female'\n",
    "part='L'\n",
    "\n",
    "imfile_name=epi+'\\\\'+number+' '+epi+' '+part\n",
    "exfile_name=epi+'\\\\'+number+' '+epi+' '+part+'n'"
   ]
  },
  {
   "cell_type": "code",
   "execution_count": 2,
   "metadata": {},
   "outputs": [],
   "source": [
    "im_file='C:\\\\Users\\\\ishikawa\\\\Cross Match\\\\import file\\\\'+imfile_name+'\\\\'\n",
    "ex_file='C:\\\\Users\\\\ishikawa\\\\Cross Match\\\\import file\\\\'+exfile_name+'\\\\'"
   ]
  },
  {
   "cell_type": "code",
   "execution_count": 3,
   "metadata": {},
   "outputs": [],
   "source": [
    "im1=number+' '+epi+' '+part+'2.xlsx'\n",
    "im2=number+' '+epi+' '+part+'3.xlsx'\n",
    "im3=number+' '+epi+' '+part+'4.xlsx'\n",
    "im4=number+' '+epi+' '+part+'5.xlsx' \n",
    "im5=number+' '+epi+' '+part+' all.xlsx'\n",
    "\n",
    "ex1=number+' '+epi+' '+part+'2n.xlsx'\n",
    "ex2=number+' '+epi+' '+part+'3n.xlsx'\n",
    "ex3=number+' '+epi+' '+part+'4n.xlsx'\n",
    "ex4=number+' '+epi+' '+part+'5n.xlsx' \n",
    "ex5=number+' '+epi+' '+part+'n all.xlsx'"
   ]
  },
  {
   "cell_type": "code",
   "execution_count": 4,
   "metadata": {},
   "outputs": [
    {
     "name": "stdout",
     "output_type": "stream",
     "text": [
      "Wall time: 9min 32s\n"
     ]
    }
   ],
   "source": [
    "%%time\n",
    "import pandas as pd\n",
    "import openpyxl\n",
    "\n",
    "#R(L)2用\n",
    "wb_im1=openpyxl.load_workbook(im_file+im1)\n",
    "wb_ex1=openpyxl.load_workbook(ex_file+ex1)\n",
    "for i in wb_im1.sheetnames:\n",
    "    sheet_im1=wb_im1[i]\n",
    "    sheet_ex1=wb_ex1[i]\n",
    "    df=pd.read_excel(im_file+im1, sheet_name=i, header=None, skiprows=1)\n",
    "    df=df[1]\n",
    "    red=df.std()\n",
    "    blue=df.mean()\n",
    "    s=2\n",
    "    while not sheet_im1.cell(row=s, column=2).value==None:\n",
    "        sheet_ex1.cell(row=s-1,column=1).value=(sheet_im1.cell(row=s,column=2).value-blue)/red\n",
    "        s=s+1\n",
    "\n",
    "wb_ex1.save(ex_file+ex1)\n",
    "\n",
    "\n",
    "#R(L)3用\n",
    "wb_im2=openpyxl.load_workbook(im_file+im2)\n",
    "wb_ex2=openpyxl.load_workbook(ex_file+ex2)\n",
    "for i in wb_im2.sheetnames:\n",
    "    sheet_im2=wb_im2[i]\n",
    "    sheet_ex2=wb_ex2[i]\n",
    "    df=pd.read_excel(im_file+im2, sheet_name=i, header=None, skiprows=1)\n",
    "    df=df[1]\n",
    "    red=df.std()\n",
    "    blue=df.mean()\n",
    "    s=2\n",
    "    while not sheet_im2.cell(row=s, column=2).value==None:\n",
    "        sheet_ex2.cell(row=s-1,column=1).value=(sheet_im2.cell(row=s,column=2).value-blue)/red\n",
    "        s=s+1\n",
    "\n",
    "wb_ex2.save(ex_file+ex2)\n",
    "\n",
    "\n",
    "#R(L)4用\n",
    "wb_im3=openpyxl.load_workbook(im_file+im3)\n",
    "wb_ex3=openpyxl.load_workbook(ex_file+ex3)\n",
    "for i in wb_im3.sheetnames:\n",
    "    sheet_im3=wb_im3[i]\n",
    "    sheet_ex3=wb_ex3[i]\n",
    "    df=pd.read_excel(im_file+im3, sheet_name=i, header=None, skiprows=1)\n",
    "    df=df[1]\n",
    "    red=df.std()\n",
    "    blue=df.mean()\n",
    "    s=2\n",
    "    while not sheet_im3.cell(row=s, column=2).value==None:\n",
    "        sheet_ex3.cell(row=s-1,column=1).value=(sheet_im3.cell(row=s,column=2).value-blue)/red\n",
    "        s=s+1\n",
    "\n",
    "wb_ex3.save(ex_file+ex3)\n",
    "\n",
    "\n",
    "#R(L)5用\n",
    "wb_im4=openpyxl.load_workbook(im_file+im4)\n",
    "wb_ex4=openpyxl.load_workbook(ex_file+ex4)\n",
    "for i in wb_im4.sheetnames:\n",
    "    sheet_im4=wb_im4[i]\n",
    "    sheet_ex4=wb_ex4[i]\n",
    "    df=pd.read_excel(im_file+im4, sheet_name=i, header=None, skiprows=1)\n",
    "    df=df[1]\n",
    "    red=df.std()\n",
    "    blue=df.mean()\n",
    "    s=2\n",
    "    while not sheet_im4.cell(row=s, column=2).value==None:\n",
    "        sheet_ex4.cell(row=s-1,column=1).value=(sheet_im4.cell(row=s,column=2).value-blue)/red\n",
    "        s=s+1\n",
    "\n",
    "wb_ex4.save(ex_file+ex4)\n",
    "\n",
    "\n",
    "#R(L) all用\n",
    "wb_im5=openpyxl.load_workbook(im_file+im5)\n",
    "wb_ex5=openpyxl.load_workbook(ex_file+ex5)\n",
    "for i in wb_im5.sheetnames:\n",
    "    sheet_im5=wb_im5[i]\n",
    "    sheet_ex5=wb_ex5[i]\n",
    "    df=pd.read_excel(im_file+im5, sheet_name=i, header=None, skiprows=1)\n",
    "    df=df[1]\n",
    "    red=df.std()\n",
    "    blue=df.mean()\n",
    "    s=2\n",
    "    while not sheet_im5.cell(row=s, column=2).value==None:\n",
    "        sheet_ex5.cell(row=s-1,column=1).value=(sheet_im5.cell(row=s,column=2).value-blue)/red\n",
    "        s=s+1\n",
    "\n",
    "wb_ex5.save(ex_file+ex5)\n"
   ]
  },
  {
   "cell_type": "code",
   "execution_count": null,
   "metadata": {},
   "outputs": [],
   "source": []
  }
 ],
 "metadata": {
  "kernelspec": {
   "display_name": "Python 3",
   "language": "python",
   "name": "python3"
  },
  "language_info": {
   "codemirror_mode": {
    "name": "ipython",
    "version": 3
   },
   "file_extension": ".py",
   "mimetype": "text/x-python",
   "name": "python",
   "nbconvert_exporter": "python",
   "pygments_lexer": "ipython3",
   "version": "3.7.3"
  }
 },
 "nbformat": 4,
 "nbformat_minor": 2
}
