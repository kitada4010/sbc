{
 "cells": [
  {
   "cell_type": "code",
   "execution_count": 14,
   "metadata": {},
   "outputs": [
    {
     "data": {
      "image/png": "[encoded data removed]",
      "text/plain": [
       "<Figure size 432x288 with 1 Axes>"
      ]
     },
     "metadata": {
      "needs_background": "light"
     },
     "output_type": "display_data"
    },
    {
     "data": {
      "text/plain": [
       "'\\n    for j, name in enumerate(sheet_names2):\\n        sheet_df2[j] = file2.parse(name)\\n        end_number = (np.where(sheet_df2[j][\\'INFORMATION\\']==\"CHANNEL\")[0][1])\\n        sig2 = (sheet_df2[j][\\'Unnamed: 3\\'][24:end_number-5])\\n        sig2 = sig2 - sig2.mean()\\n        corr = np.correlate(sig1, sig2, \"full\")\\n        estimated_delay = corr.argmax() - (len(sig1) - 1)\\n        print(\"estimated delay is \" + str(estimated_delay)+ \"_\" + str(i) +\"_\"+ str(j))\\n]\\n        plt.figure(figsize=(6, 4), dpi=50)\\n        plt.subplots_adjust(wspace=0.4, hspace=0.6)\\n        plt.subplot(4, 1, 1)\\n        plt.ylabel(\"sig\"+str(i))\\n        plt.plot(sig1)\\n        plt.subplot(4, 1, 2)\\n        plt.ylabel(\"sig\"+str(j))\\n        plt.plot(sig2, color=\"g\")\\n\\n        plt.subplot(4, 1, 3)\\n        plt.ylabel(\"fit\")\\n        plt.plot(np.arange(len(sig1)), sig1)\\n        plt.plot(np.arange(len(sig2)) + estimated_delay, sig2 )\\n        plt.xlim([0, len(sig1)])\\n\\n        plt.subplot(4, 1, 4)\\n        plt.ylabel(\"corr\")\\n        plt.plot(np.arange(len(corr)) - len(sig2) + 1, corr, color=\"r\")\\n        plt.xlim([0, len(sig1)])\\n        plt.show()\\n        print(i,j)\\n        #plt.savefig(\"./image2/\"+ str(i) +\"_\"+ str(j) +\".png\")\\n        \\n\\nfile1.close()\\nfile2.close()\\n#time_file.close()\\n'"
      ]
     },
     "execution_count": 14,
     "metadata": {},
     "output_type": "execute_result"
    }
   ],
   "source": [
    "#エクセルファイルの変換を目指して\n",
    "import pandas as pd\n",
    "import numpy as np\n",
    "import matplotlib.pyplot as plt\n",
    "import sys\n",
    "file_name1 = 'B39 restraint R3'\n",
    "file_name2 = 'B39 restraint R3'\n",
    "file1 = pd.ExcelFile(file_name1+'.xls')\n",
    "file2 = pd.ExcelFile(file_name2+'.xls')\n",
    "time_file = open(file_name1 + '_' + file_name2 +'_time_data.csv', 'w')\n",
    "\n",
    "time_leng = 10\n",
    "\n",
    "sheet_df1 = file1.parse(file1.sheet_names, header=None)\n",
    "sheet_df2 = file2.parse(file2.sheet_names, header=None)\n",
    "\n",
    "cmap = plt.get_cmap(\"flag\")\n",
    "\n",
    "sheet_names1 = file1.sheet_names\n",
    "sheet_names2 = file2.sheet_names\n",
    "\n",
    "for i, name in enumerate(sheet_names1):\n",
    "    sheet_df1[i] = file1.parse(name)\n",
    "    end_number = (np.where(sheet_df1[i]['INFORMATION']==\"CHANNEL\")[0][1])\n",
    "    #print(sheet_df1[i])\n",
    "    sig1 = (sheet_df1[i]['Unnamed: 3'][24:end_number-5])\n",
    "    sig1 = sig1 - sig1.mean()\n",
    "    leng = end_number - 5 -24 - time_leng\n",
    "    psth = np.empty(leng, dtype=np.int)\n",
    "    for k in range(leng) :\n",
    "        psth[k] = sig1[k : k+time_leng].sum()\n",
    "    x = np.linspace(0, leng, leng)\n",
    "    plt.plot(x, psth,  color=cmap(i))\n",
    "plt.show()\n",
    "\"\"\"\n",
    "    for j, name in enumerate(sheet_names2):\n",
    "        sheet_df2[j] = file2.parse(name)\n",
    "        end_number = (np.where(sheet_df2[j]['INFORMATION']==\"CHANNEL\")[0][1])\n",
    "        sig2 = (sheet_df2[j]['Unnamed: 3'][24:end_number-5])\n",
    "        sig2 = sig2 - sig2.mean()\n",
    "        corr = np.correlate(sig1, sig2, \"full\")\n",
    "        estimated_delay = corr.argmax() - (len(sig1) - 1)\n",
    "        print(\"estimated delay is \" + str(estimated_delay)+ \"_\" + str(i) +\"_\"+ str(j))\n",
    "]\n",
    "        plt.figure(figsize=(6, 4), dpi=50)\n",
    "        plt.subplots_adjust(wspace=0.4, hspace=0.6)\n",
    "        plt.subplot(4, 1, 1)\n",
    "        plt.ylabel(\"sig\"+str(i))\n",
    "        plt.plot(sig1)\n",
    "        plt.subplot(4, 1, 2)\n",
    "        plt.ylabel(\"sig\"+str(j))\n",
    "        plt.plot(sig2, color=\"g\")\n",
    "\n",
    "        plt.subplot(4, 1, 3)\n",
    "        plt.ylabel(\"fit\")\n",
    "        plt.plot(np.arange(len(sig1)), sig1)\n",
    "        plt.plot(np.arange(len(sig2)) + estimated_delay, sig2 )\n",
    "        plt.xlim([0, len(sig1)])\n",
    "\n",
    "        plt.subplot(4, 1, 4)\n",
    "        plt.ylabel(\"corr\")\n",
    "        plt.plot(np.arange(len(corr)) - len(sig2) + 1, corr, color=\"r\")\n",
    "        plt.xlim([0, len(sig1)])\n",
    "        plt.show()\n",
    "        print(i,j)\n",
    "        #plt.savefig(\"./image2/\"+ str(i) +\"_\"+ str(j) +\".png\")\n",
    "        \n",
    "\n",
    "file1.close()\n",
    "file2.close()\n",
    "#time_file.close()\n",
    "\"\"\""
   ]
  }
 ],
 "metadata": {
  "kernelspec": {
   "display_name": "Python 3",
   "language": "python",
   "name": "python3"
  },
  "language_info": {
   "codemirror_mode": {
    "name": "ipython",
    "version": 3
   },
   "file_extension": ".py",
   "mimetype": "text/x-python",
   "name": "python",
   "nbconvert_exporter": "python",
   "pygments_lexer": "ipython3",
   "version": "3.7.4"
  }
 },
 "nbformat": 4,
 "nbformat_minor": 2
}
