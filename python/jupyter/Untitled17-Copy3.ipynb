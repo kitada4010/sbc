{
 "cells": [
  {
   "cell_type": "code",
   "execution_count": 10,
   "metadata": {},
   "outputs": [],
   "source": [
    "#エクセルファイルの変換を目指して\n",
    "import pandas as pd\n",
    "import numpy as np\n",
    "import matplotlib.pyplot as plt\n",
    "%matplotlib inline\n",
    "import sys\n",
    "def Base_10_to_n(X, n):\n",
    "    X_dumy = X\n",
    "    out = ''\n",
    "    while X_dumy>0:\n",
    "        out = str(X_dumy%n)+out\n",
    "        X_dumy = int(X_dumy/n)\n",
    "    return out\n",
    "\n",
    "def count(spam, var, leng):\n",
    "    found = 0\n",
    "    for i in range(len(spam) - leng +1):\n",
    "        if spam[i:(i+leng)] == var:\n",
    "            found += 1\n",
    "    return found\n",
    "def Base_n_to_10(X,n):\n",
    "    out = 0\n",
    "    for i in range(1,len(str(X))+1):\n",
    "        out += int(X[-i])*(n**(i-1))\n",
    "    return out#int out\n",
    "def Base_n_to_m(X, n, m):\n",
    "    return Base_10_to_n(Base_n_to_10(X, n), m)\n",
    "    "
   ]
  },
  {
   "cell_type": "code",
   "execution_count": 11,
   "metadata": {},
   "outputs": [],
   "source": [
    "#ファイルの読み込み\n",
    "file_name1 = 'B39 restraint R3'\n",
    "file_name2 = 'B39 restraint R3'\n",
    "file1 = pd.ExcelFile(file_name1+'.xls')\n",
    "file2 = pd.ExcelFile(file_name2+'.xls')\n",
    "#time_file = open(file_name1 + '_' + file_name2 +'_time_data.csv', 'w')\n",
    "\n",
    "time_leng = 10\n",
    "pattern_leng = 2\n",
    "\n",
    "\n",
    "sheet_df1 = file1.parse(file1.sheet_names, header=None)\n",
    "sheet_df2 = file2.parse(file2.sheet_names, header=None)\n",
    "\n",
    "cmap = plt.get_cmap(\"tab20\")\n",
    "\n",
    "sheet_names1 = file1.sheet_names\n",
    "sheet_names2 = file2.sheet_names\n",
    "\n",
    "max_psth1 = 0\n",
    "max_psth2 = 0\n",
    "\n",
    "sum_pattern1 = 0\n",
    "sum_pattern2 = 0"
   ]
  },
  {
   "cell_type": "code",
   "execution_count": 12,
   "metadata": {},
   "outputs": [],
   "source": [
    "#ファイル1のデータカウント\n",
    "for i, name in enumerate(sheet_names1):\n",
    "    sheet_df1[i] = file1.parse(name)\n",
    "    end_number = (np.where(sheet_df1[i]['INFORMATION']==\"CHANNEL\")[0][1])\n",
    "    #print(sheet_df1[i])\n",
    "    sig1 = (sheet_df1[i]['Unnamed: 3'][24:end_number-5])\n",
    "    #sig1 = sig1 - sig1.mean()\n",
    "    leng = end_number - 5 -24 - time_leng\n",
    "    psth = np.empty(leng, dtype=np.int)\n",
    "    for k in range(leng) :\n",
    "        psth[k] = sig1[k : k+time_leng].sum()\n",
    "    #x = np.linspace(0, leng-1, leng)\n",
    "    if (max(psth) > max_psth1) : \n",
    "        #pattern_count = np.append(pattern_count,  np.zeros((max(psth)+1) ** pattern_leng) - ((max_psth+1) ** pattern_leng) )\n",
    "        max_psth1 = max(psth)\n",
    "    psth_pattern = psth.astype('str')\n",
    "    psth_pattern = ''.join(psth_pattern)\n",
    "    psth_pattern = psth_pattern.strip('0')\n",
    "    sum_pattern1 += (len(psth_pattern) - pattern_leng + 1)    "
   ]
  },
  {
   "cell_type": "code",
   "execution_count": 13,
   "metadata": {},
   "outputs": [],
   "source": [
    "#ファイル2のデータカウント\n",
    "for i, name in enumerate(sheet_names2):\n",
    "    sheet_df2[i] = file2.parse(name)\n",
    "    end_number = (np.where(sheet_df2[i]['INFORMATION']==\"CHANNEL\")[0][1])\n",
    "    sig1 = (sheet_df2[i]['Unnamed: 3'][24:end_number-5])\n",
    "    leng = end_number - 5 -24 - time_leng\n",
    "    psth = np.empty(leng, dtype=np.int)\n",
    "    for k in range(leng) :\n",
    "        psth[k] = sig1[k : k+time_leng].sum()\n",
    "    if (max(psth) > max_psth2) : \n",
    "        max_psth2 = max(psth)\n",
    "    psth_pattern = psth.astype('str')\n",
    "    psth_pattern = ''.join(psth_pattern)\n",
    "    psth_pattern = psth_pattern.strip('0')\n",
    "    sum_pattern2 += (len(psth_pattern) - pattern_leng + 1)  "
   ]
  },
  {
   "cell_type": "code",
   "execution_count": 14,
   "metadata": {},
   "outputs": [
    {
     "name": "stdout",
     "output_type": "stream",
     "text": [
      "[25958   984     0     0   984 10520   355     0     0   355   796     4\n",
      "     0     0     4     2]\n",
      "3\n",
      "39962\n"
     ]
    }
   ],
   "source": [
    "#ファイル1のパターンカウント\n",
    "psth_count1 = np.zeros(((max_psth1 + 1) ** pattern_leng), dtype=int)\n",
    "        \n",
    "for i, name in enumerate(sheet_names1):\n",
    "    sheet_df1[i] = file1.parse(name)\n",
    "    end_number = (np.where(sheet_df1[i]['INFORMATION']==\"CHANNEL\")[0][1])\n",
    "    sig = (sheet_df1[i]['Unnamed: 3'][24:end_number-5])\n",
    "    leng = end_number - 5 -24 - time_leng\n",
    "    psth = np.empty(leng, dtype=np.int)\n",
    "    for k in range(leng) :\n",
    "        psth[k] = sig[k : k+time_leng].sum()\n",
    "    psth_pattern = psth.astype('str')\n",
    "    psth_pattern = ''.join(psth_pattern)\n",
    "    psth_pattern = psth_pattern.strip('0')\n",
    "    \n",
    "    for i in range((max_psth1 + 1) ** pattern_leng) : \n",
    "        pattern = Base_10_to_n(i, (max_psth1+1))\n",
    "        psth_count1[i] += count(psth_pattern, str(pattern).zfill(pattern_leng), pattern_leng)\n",
    "\n",
    "print(psth_count1)\n",
    "print(max_psth1)\n",
    "print(sum_pattern1)"
   ]
  },
  {
   "cell_type": "code",
   "execution_count": 15,
   "metadata": {},
   "outputs": [
    {
     "name": "stdout",
     "output_type": "stream",
     "text": [
      "[25958   984     0     0   984 10520   355     0     0   355   796     4\n",
      "     0     0     4     2]\n",
      "3\n",
      "39962\n"
     ]
    }
   ],
   "source": [
    "#ファイル2のパターンカウント\n",
    "psth_count2 = np.zeros(((max_psth2 + 1) ** pattern_leng), dtype=int)\n",
    "        \n",
    "for i, name in enumerate(sheet_names2):\n",
    "    sheet_df2[i] = file2.parse(name)\n",
    "    end_number = (np.where(sheet_df2[i]['INFORMATION']==\"CHANNEL\")[0][1])\n",
    "    sig = (sheet_df2[i]['Unnamed: 3'][24:end_number-5])\n",
    "    leng = end_number - 5 -24 - time_leng\n",
    "    psth = np.empty(leng, dtype=np.int)\n",
    "    for k in range(leng) :\n",
    "        psth[k] = sig[k : k+time_leng].sum()\n",
    "    psth_pattern = psth.astype('str')\n",
    "    psth_pattern = ''.join(psth_pattern)\n",
    "    psth_pattern = psth_pattern.strip('0')\n",
    "    \n",
    "    for i in range((max_psth2 + 1) ** pattern_leng) : \n",
    "        pattern = Base_10_to_n(i, (max_psth2+1))\n",
    "        psth_count2[i] += count(psth_pattern, str(pattern).zfill(pattern_leng), pattern_leng)\n",
    "\n",
    "print(psth_count2)\n",
    "print(max_psth2)\n",
    "print(sum_pattern2)"
   ]
  },
  {
   "cell_type": "code",
   "execution_count": 16,
   "metadata": {},
   "outputs": [
    {
     "name": "stdout",
     "output_type": "stream",
     "text": [
      "3\n",
      "79924\n",
      "[51916  1968     0     0  1968 21040   710     0     0   710  1592     8\n",
      "     0     0     8     4]\n"
     ]
    }
   ],
   "source": [
    "#情報量の計算準備\n",
    "if(max_psth1 >= max_psth2) : \n",
    "    max_psth = max_psth1\n",
    "else : \n",
    "    max_psth = max_psth2\n",
    "sum_pattern = sum_pattern1 + sum_pattern2\n",
    "psth_count = psth_count1 + psth_count2\n",
    "pattern_information = np.zeros(((max_psth + 1) ** pattern_leng))\n",
    "print(max_psth)\n",
    "print(sum_pattern)\n",
    "print(psth_count)"
   ]
  },
  {
   "cell_type": "code",
   "execution_count": 17,
   "metadata": {},
   "outputs": [
    {
     "ename": "SyntaxError",
     "evalue": "unexpected EOF while parsing (<ipython-input-17-0552f8cce279>, line 3)",
     "output_type": "error",
     "traceback": [
      "\u001b[0;36m  File \u001b[0;32m\"<ipython-input-17-0552f8cce279>\"\u001b[0;36m, line \u001b[0;32m3\u001b[0m\n\u001b[0;31m    \u001b[0m\n\u001b[0m    ^\u001b[0m\n\u001b[0;31mSyntaxError\u001b[0m\u001b[0;31m:\u001b[0m unexpected EOF while parsing\n"
     ]
    }
   ],
   "source": [
    "#情報量の計算\n",
    "for i in range((max_psth + 1) ** pattern_leng) :\n",
    "    "
   ]
  }
 ],
 "metadata": {
  "kernelspec": {
   "display_name": "Python 3",
   "language": "python",
   "name": "python3"
  },
  "language_info": {
   "codemirror_mode": {
    "name": "ipython",
    "version": 3
   },
   "file_extension": ".py",
   "mimetype": "text/x-python",
   "name": "python",
   "nbconvert_exporter": "python",
   "pygments_lexer": "ipython3",
   "version": "3.6.8"
  }
 },
 "nbformat": 4,
 "nbformat_minor": 2
}
