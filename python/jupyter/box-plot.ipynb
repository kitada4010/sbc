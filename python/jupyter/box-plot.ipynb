{
 "cells": [
  {
   "cell_type": "code",
   "execution_count": 2,
   "metadata": {},
   "outputs": [
    {
     "name": "stdout",
     "output_type": "stream",
     "text": [
      "[80. 88. 88. 96. 84. 99. 51. 92.  6. 66.  4. 90. 70. 29. 57.]\n"
     ]
    }
   ],
   "source": [
    "import matplotlib as mpl\n",
    "import matplotlib.pyplot as plt\n",
    "import sys\n",
    "import numpy as np\n",
    "\n",
    "\n",
    "data_pearson = np.loadtxt(\"top-table.txt\", skiprows=0, dtype='float')\n",
    "data_kull = np.loadtxt(\"top-table-jensen.txt\", skiprows=0, dtype='float')\n",
    "data_jensen = np.loadtxt(\"top-table-jensen.txt\", skiprows=0, dtype='float')\n",
    "\n",
    "print(data_pearson[:,0])\n",
    "\n",
    "window_pearson = data_pearson[:,0]*0.04\n",
    "points_window = (data_kull[:,0]*0.04, data_jensen[:,0]*0.04, data_pearson[:,0]*0.04)\n",
    "points_pattern = (data_kull[:,1], data_jensen[:,1], data_pearson[:,1])\n",
    "points_divergence = (data_kull[:,2], data_jensen[:,2], data_pearson[:,2])\n",
    "\n",
    "\n",
    "#print(data[:0]*0.04)\n",
    "#, data[:1], data[:2])\n",
    "\n",
    "# window\n",
    "fig, ax = plt.subplots()\n",
    "bp = ax.boxplot(points_window)\n",
    "ax.set_xticklabels(['kullback', 'jensen-shannon', 'pearson'])\n",
    "plt.ylabel('window size [ms]')\n",
    "# Y軸のメモリのrange\n",
    "#plt.ylim([0,100])\n",
    "plt.grid()\n",
    "plt.savefig(\"box-plot-window.png\")\n",
    "plt.close()\n",
    "\n",
    "# pattern\n",
    "fig, ax = plt.subplots()\n",
    "bp = ax.boxplot(points_pattern)\n",
    "ax.set_xticklabels(['kullback', 'jensen-shannon', 'pearson'])\n",
    "plt.ylabel('pattern leng')\n",
    "# Y軸のメモリのrange\n",
    "#plt.ylim([0,100])\n",
    "plt.grid()\n",
    "plt.savefig(\"box-plot-pattern.png\")\n",
    "plt.close()\n",
    "\n",
    "\n",
    "# window\n",
    "fig, ax = plt.subplots()\n",
    "bp = ax.boxplot(points_divergence)\n",
    "ax.set_xticklabels(['kullback', 'jensen-shannon', 'pearson'])\n",
    "plt.ylabel('divergence')\n",
    "# Y軸のメモリのrange\n",
    "#plt.ylim([0,100])\n",
    "plt.grid()\n",
    "plt.savefig(\"box-plot-divergence.png\")\n",
    "plt.close()\n",
    "\n",
    "#df[0].plot.box()"
   ]
  }
 ],
 "metadata": {
  "kernelspec": {
   "display_name": "Python 3",
   "language": "python",
   "name": "python3"
  },
  "language_info": {
   "codemirror_mode": {
    "name": "ipython",
    "version": 3
   },
   "file_extension": ".py",
   "mimetype": "text/x-python",
   "name": "python",
   "nbconvert_exporter": "python",
   "pygments_lexer": "ipython3",
   "version": "3.7.7"
  }
 },
 "nbformat": 4,
 "nbformat_minor": 4
}
