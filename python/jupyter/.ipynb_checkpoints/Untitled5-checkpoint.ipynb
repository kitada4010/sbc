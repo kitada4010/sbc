{
 "cells": [
  {
   "cell_type": "code",
   "execution_count": 16,
   "metadata": {
    "scrolled": true
   },
   "outputs": [
    {
     "ename": "SyntaxError",
     "evalue": "invalid syntax (<ipython-input-16-23fc7f294e20>, line 43)",
     "output_type": "error",
     "traceback": [
      "\u001b[0;36m  File \u001b[0;32m\"<ipython-input-16-23fc7f294e20>\"\u001b[0;36m, line \u001b[0;32m43\u001b[0m\n\u001b[0;31m    swan.py -s 65 specdataa\u001b[0m\n\u001b[0m                ^\u001b[0m\n\u001b[0;31mSyntaxError\u001b[0m\u001b[0;31m:\u001b[0m invalid syntax\n"
     ]
    }
   ],
   "source": [
    "import waipy\n",
    "from waipy import wavelet_plot\n",
    "#from wavelib import *\n",
    "import pickle\n",
    "import numpy as np\n",
    "import wave\n",
    "from matplotlib import pyplot as plt\n",
    "#from wave import pywavelets\n",
    "import sys\n",
    "sys.path.append('./')\n",
    "#import matplotlib as mpl\n",
    "#mpl.rcParams['agg.path.chunksize'] = 100000\n",
    "from pylab import *\n",
    "\n",
    "with open('/home/hera/nodoka/home2/nodoka/spike-data/25kHz-data/B39 Rd.pickle', mode='rb') as fp:\n",
    "#with open('/home/hera/nodoka/home2/nodoka/spike-data/25kHz-data/B39 Rd.pickle', mode='rb') as fp:\n",
    "#with open('/Volumes/NO NAME/25kHz-data/B39 Rd.pickle',mode='rb') as fp:\n",
    "    df = pickle.load(fp)\n",
    "\n",
    "starttime = 400\n",
    "endtime = 401\n",
    "start = int(starttime/0.00004)\n",
    "end = int(endtime/0.00004)\n",
    "datatime = []\n",
    "#print(df[start:end])\n",
    "#specdatab = np.array(df[start:end])\n",
    "for i in range(len(df[start:end])):\n",
    "#    print(i)\n",
    "    datatime.append([(starttime+(i*0.00004))])\n",
    "#print(datatime)\n",
    "\n",
    "specdatab = np.array(df[start:end])\n",
    "specdataa = specdatab.flatten()\n",
    "fp.close\n",
    "\n",
    "f, ax = plt.subplots()\n",
    "ax.plot(datatime,specdataa)\n",
    "xlim = [starttime,endtime]  # plotting range\n",
    "ax.set_xlim(xlim)\n",
    "del datatime\n",
    "\n",
    "\n",
    "swan.py -s  specdataa\n"
   ]
  },
  {
   "cell_type": "code",
   "execution_count": 5,
   "metadata": {},
   "outputs": [
    {
     "name": "stdout",
     "output_type": "stream",
     "text": [
      "-0.026608781199999997\n",
      "0.20553439401555773\n"
     ]
    }
   ],
   "source": [
    "\n",
    "variance = np.std(specdataa)**2\n",
    "mean=np.mean(specdataa)\n",
    "data = (specdataa - np.mean(specdataa))/np.sqrt(variance)\n",
    "print (mean)\n",
    "print (np.sqrt(variance))\n",
    "\n",
    "dt = 0.00004\n",
    "pad = 1      # pad the time series with zeroes (recommended)\n",
    "dj = 0.25    # this will do 4 sub-octaves per octave\n",
    "s0 = 2.*dt    # this says start at a scale of 6 months\n",
    "j1 = 7./dj    # this says do 7 powers-of-two with dj sub-octaves each\n",
    "lag1 = 0.72  # lag-1 autocorrelation for red noise background\n",
    "mother = 'Morlet'\n"
   ]
  },
  {
   "cell_type": "code",
   "execution_count": 12,
   "metadata": {},
   "outputs": [
    {
     "ename": "TypeError",
     "evalue": "'module' object is not callable",
     "output_type": "error",
     "traceback": [
      "\u001b[0;31m---------------------------------------------------------------------------\u001b[0m",
      "\u001b[0;31mTypeError\u001b[0m                                 Traceback (most recent call last)",
      "\u001b[0;32m<ipython-input-12-e6ad72b0dc33>\u001b[0m in \u001b[0;36m<module>\u001b[0;34m()\u001b[0m\n\u001b[1;32m      3\u001b[0m \u001b[0msys\u001b[0m\u001b[0;34m.\u001b[0m\u001b[0mpath\u001b[0m\u001b[0;34m\u001b[0m\u001b[0m\n\u001b[1;32m      4\u001b[0m \u001b[0;32mimport\u001b[0m \u001b[0mkPyWavelet\u001b[0m \u001b[0;32mas\u001b[0m \u001b[0mwavelet\u001b[0m\u001b[0;34m\u001b[0m\u001b[0m\n\u001b[0;32m----> 5\u001b[0;31m \u001b[0mwave\u001b[0m\u001b[0;34m,\u001b[0m\u001b[0mperiod\u001b[0m\u001b[0;34m,\u001b[0m\u001b[0mscale\u001b[0m\u001b[0;34m,\u001b[0m\u001b[0mcoi\u001b[0m \u001b[0;34m=\u001b[0m \u001b[0mwavelet\u001b[0m\u001b[0;34m(\u001b[0m\u001b[0mdata\u001b[0m\u001b[0;34m,\u001b[0m\u001b[0mdt\u001b[0m\u001b[0;34m,\u001b[0m\u001b[0mpad\u001b[0m\u001b[0;34m,\u001b[0m\u001b[0mdj\u001b[0m\u001b[0;34m,\u001b[0m\u001b[0ms0\u001b[0m\u001b[0;34m,\u001b[0m\u001b[0mj1\u001b[0m\u001b[0;34m,\u001b[0m\u001b[0mmother\u001b[0m\u001b[0;34m)\u001b[0m\u001b[0;34m;\u001b[0m\u001b[0;34m\u001b[0m\u001b[0m\n\u001b[0m\u001b[1;32m      6\u001b[0m \u001b[0mpower\u001b[0m \u001b[0;34m=\u001b[0m \u001b[0;34m(\u001b[0m\u001b[0mnp\u001b[0m\u001b[0;34m.\u001b[0m\u001b[0mabs\u001b[0m\u001b[0;34m(\u001b[0m\u001b[0mwave\u001b[0m\u001b[0;34m)\u001b[0m\u001b[0;34m)\u001b[0m\u001b[0;34m**\u001b[0m\u001b[0;36m2\u001b[0m         \u001b[0;31m# compute wavelet power spectrum\u001b[0m\u001b[0;34m\u001b[0m\u001b[0m\n",
      "\u001b[0;31mTypeError\u001b[0m: 'module' object is not callable"
     ]
    }
   ],
   "source": [
    "from waipy import wavelet_plot\n",
    "import sys\n",
    "sys.path\n",
    "import kPyWavelet as wavelet\n",
    "wave,period,scale,coi = wavelet(data,dt,pad,dj,s0,j1,mother);\n",
    "power = (np.abs(wave))**2         # compute wavelet power spectrum"
   ]
  },
  {
   "cell_type": "code",
   "execution_count": 11,
   "metadata": {},
   "outputs": [
    {
     "data": {
      "text/plain": [
       "['',\n",
       " '/home/hera/nodoka/.pyenv/versions/anaconda3-5.3.0/lib/python35.zip',\n",
       " '/home/hera/nodoka/.pyenv/versions/anaconda3-5.3.0/lib/python3.5',\n",
       " '/home/hera/nodoka/.pyenv/versions/anaconda3-5.3.0/lib/python3.5/plat-linux',\n",
       " '/home/hera/nodoka/.pyenv/versions/anaconda3-5.3.0/lib/python3.5/lib-dynload',\n",
       " '/home/hera/nodoka/.pyenv/versions/anaconda3-5.3.0/lib/python3.5/site-packages',\n",
       " '/home/hera/nodoka/.pyenv/versions/anaconda3-5.3.0/lib/python3.5/site-packages/kPyWavelet.pth',\n",
       " '/home/hera/nodoka/.pyenv/versions/anaconda3-5.3.0/lib/python3.5/site-packages/IPython/extensions',\n",
       " '/ahome/hera/nodoka/.ipython',\n",
       " './',\n",
       " './']"
      ]
     },
     "execution_count": 11,
     "metadata": {},
     "output_type": "execute_result"
    }
   ],
   "source": [
    "import sys\n",
    "sys.path"
   ]
  },
  {
   "cell_type": "code",
   "execution_count": 23,
   "metadata": {},
   "outputs": [
    {
     "name": "stdout",
     "output_type": "stream",
     "text": [
      "Lag-1 autocorrelation = 0.98\n"
     ]
    },
    {
     "ename": "ImportError",
     "evalue": "No module named 'lib_wavelet'",
     "output_type": "error",
     "traceback": [
      "\u001b[0;31m---------------------------------------------------------------------------\u001b[0m",
      "\u001b[0;31mImportError\u001b[0m                               Traceback (most recent call last)",
      "\u001b[0;32m<ipython-input-23-3879c83fdfbb>\u001b[0m in \u001b[0;36m<module>\u001b[0;34m()\u001b[0m\n\u001b[1;32m      8\u001b[0m \u001b[0malpha\u001b[0m \u001b[0;34m=\u001b[0m \u001b[0mnp\u001b[0m\u001b[0;34m.\u001b[0m\u001b[0mcorrcoef\u001b[0m\u001b[0;34m(\u001b[0m\u001b[0mdata_norm\u001b[0m\u001b[0;34m[\u001b[0m\u001b[0;36m0\u001b[0m\u001b[0;34m:\u001b[0m\u001b[0;34m-\u001b[0m\u001b[0;36m1\u001b[0m\u001b[0;34m]\u001b[0m\u001b[0;34m,\u001b[0m \u001b[0mdata_norm\u001b[0m\u001b[0;34m[\u001b[0m\u001b[0;36m1\u001b[0m\u001b[0;34m:\u001b[0m\u001b[0;34m]\u001b[0m\u001b[0;34m)\u001b[0m\u001b[0;34m[\u001b[0m\u001b[0;36m0\u001b[0m\u001b[0;34m,\u001b[0m\u001b[0;36m1\u001b[0m\u001b[0;34m]\u001b[0m\u001b[0;34m;\u001b[0m\u001b[0;34m\u001b[0m\u001b[0m\n\u001b[1;32m      9\u001b[0m \u001b[0mprint\u001b[0m\u001b[0;34m(\u001b[0m\u001b[0;34m\"Lag-1 autocorrelation = {:4.2f}\"\u001b[0m\u001b[0;34m.\u001b[0m\u001b[0mformat\u001b[0m\u001b[0;34m(\u001b[0m\u001b[0malpha\u001b[0m\u001b[0;34m)\u001b[0m\u001b[0;34m)\u001b[0m\u001b[0;34m\u001b[0m\u001b[0m\n\u001b[0;32m---> 10\u001b[0;31m \u001b[0mresult\u001b[0m \u001b[0;34m=\u001b[0m \u001b[0mwaipy\u001b[0m\u001b[0;34m.\u001b[0m\u001b[0mcwt\u001b[0m\u001b[0;34m(\u001b[0m\u001b[0mdata_norm\u001b[0m\u001b[0;34m,\u001b[0m \u001b[0;36m1\u001b[0m\u001b[0;34m,\u001b[0m \u001b[0;36m1\u001b[0m\u001b[0;34m,\u001b[0m \u001b[0;36m0.25\u001b[0m\u001b[0;34m,\u001b[0m \u001b[0;36m2\u001b[0m\u001b[0;34m,\u001b[0m \u001b[0;36m4\u001b[0m\u001b[0;34m/\u001b[0m\u001b[0;36m0.25\u001b[0m\u001b[0;34m,\u001b[0m \u001b[0malpha\u001b[0m\u001b[0;34m,\u001b[0m \u001b[0;36m6\u001b[0m\u001b[0;34m,\u001b[0m \u001b[0mmother\u001b[0m\u001b[0;34m=\u001b[0m\u001b[0;34m'Morlet'\u001b[0m\u001b[0;34m)\u001b[0m\u001b[0;34m\u001b[0m\u001b[0m\n\u001b[0m\u001b[1;32m     11\u001b[0m \u001b[0mget_ipython\u001b[0m\u001b[0;34m(\u001b[0m\u001b[0;34m)\u001b[0m\u001b[0;34m.\u001b[0m\u001b[0mrun_line_magic\u001b[0m\u001b[0;34m(\u001b[0m\u001b[0;34m'pinfo'\u001b[0m\u001b[0;34m,\u001b[0m \u001b[0;34m'waipy.wavelet_plot'\u001b[0m\u001b[0;34m)\u001b[0m\u001b[0;34m\u001b[0m\u001b[0m\n",
      "\u001b[0;32m~/.pyenv/versions/anaconda3-5.3.0/lib/python3.5/site-packages/waipy/cwt/wavetest.py\u001b[0m in \u001b[0;36mcwt\u001b[0;34m(data, dt, pad, dj, s0, j1, lag1, param, mother)\u001b[0m\n\u001b[1;32m     72\u001b[0m     \u001b[0mn\u001b[0m \u001b[0;34m=\u001b[0m \u001b[0mlen\u001b[0m\u001b[0;34m(\u001b[0m\u001b[0mdata\u001b[0m\u001b[0;34m)\u001b[0m\u001b[0;34m\u001b[0m\u001b[0m\n\u001b[1;32m     73\u001b[0m     \u001b[0;31m# Wavelet transform\u001b[0m\u001b[0;34m\u001b[0m\u001b[0;34m\u001b[0m\u001b[0m\n\u001b[0;32m---> 74\u001b[0;31m     \u001b[0;32mimport\u001b[0m \u001b[0mlib_wavelet\u001b[0m\u001b[0;34m\u001b[0m\u001b[0m\n\u001b[0m\u001b[1;32m     75\u001b[0m     \u001b[0mondaleta\u001b[0m\u001b[0;34m,\u001b[0m\u001b[0mwave\u001b[0m\u001b[0;34m,\u001b[0m\u001b[0mperiod\u001b[0m\u001b[0;34m,\u001b[0m\u001b[0mscale\u001b[0m\u001b[0;34m,\u001b[0m\u001b[0mcoi\u001b[0m\u001b[0;34m,\u001b[0m\u001b[0mf\u001b[0m \u001b[0;34m=\u001b[0m \u001b[0mlib_wavelet\u001b[0m\u001b[0;34m.\u001b[0m\u001b[0mwavelet\u001b[0m\u001b[0;34m(\u001b[0m\u001b[0mdata\u001b[0m\u001b[0;34m,\u001b[0m\u001b[0mdt\u001b[0m\u001b[0;34m,\u001b[0m\u001b[0mmother\u001b[0m\u001b[0;34m,\u001b[0m\u001b[0mparam\u001b[0m\u001b[0;34m)\u001b[0m\u001b[0;31m#,pad,dj,s0,j1,mother,param)\u001b[0m\u001b[0;34m\u001b[0m\u001b[0m\n\u001b[1;32m     76\u001b[0m     \u001b[0mpower\u001b[0m \u001b[0;34m=\u001b[0m \u001b[0mnp\u001b[0m\u001b[0;34m.\u001b[0m\u001b[0mabs\u001b[0m\u001b[0;34m(\u001b[0m\u001b[0mwave\u001b[0m\u001b[0;34m*\u001b[0m\u001b[0mwave\u001b[0m\u001b[0;34m)\u001b[0m\u001b[0;34m\u001b[0m\u001b[0m\n",
      "\u001b[0;31mImportError\u001b[0m: No module named 'lib_wavelet'"
     ]
    }
   ],
   "source": [
    "#%matplotlib inline\n",
    "#import numpy as np \n",
    "#import pandas as pd\n",
    "#from matplotlib import pyplot as plt\n",
    "#import waipy\n",
    "#from wavelib import *\n",
    "data_norm = waipy.normalize(specdataa)\n",
    "alpha = np.corrcoef(data_norm[0:-1], data_norm[1:])[0,1]; \n",
    "print(\"Lag-1 autocorrelation = {:4.2f}\".format(alpha))\n",
    "result = waipy.cwt(data_norm, 1, 1, 0.25, 2, 4/0.25, alpha, 6, mother='Morlet')\n",
    "waipy.wavelet_plot?\n"
   ]
  },
  {
   "cell_type": "code",
   "execution_count": 24,
   "metadata": {},
   "outputs": [
    {
     "ename": "NameError",
     "evalue": "name 'result' is not defined",
     "output_type": "error",
     "traceback": [
      "\u001b[0;31m---------------------------------------------------------------------------\u001b[0m",
      "\u001b[0;31mNameError\u001b[0m                                 Traceback (most recent call last)",
      "\u001b[0;32m<ipython-input-24-c5ba17c5e22e>\u001b[0m in \u001b[0;36m<module>\u001b[0;34m()\u001b[0m\n\u001b[0;32m----> 1\u001b[0;31m \u001b[0mwaipy\u001b[0m\u001b[0;34m.\u001b[0m\u001b[0mwavelet_plot\u001b[0m\u001b[0;34m(\u001b[0m\u001b[0mtime\u001b[0m\u001b[0;34m,\u001b[0m \u001b[0mdata_norm\u001b[0m\u001b[0;34m,\u001b[0m \u001b[0;36m0.03125\u001b[0m\u001b[0;34m,\u001b[0m \u001b[0mresult\u001b[0m\u001b[0;34m)\u001b[0m\u001b[0;34m;\u001b[0m\u001b[0;34m\u001b[0m\u001b[0m\n\u001b[0m",
      "\u001b[0;31mNameError\u001b[0m: name 'result' is not defined"
     ]
    }
   ],
   "source": [
    "waipy.wavelet_plot(time, data_norm, 0.03125, result); "
   ]
  }
 ],
 "metadata": {
  "kernelspec": {
   "display_name": "Python 3",
   "language": "python",
   "name": "python3"
  },
  "language_info": {
   "codemirror_mode": {
    "name": "ipython",
    "version": 3
   },
   "file_extension": ".py",
   "mimetype": "text/x-python",
   "name": "python",
   "nbconvert_exporter": "python",
   "pygments_lexer": "ipython3",
   "version": "3.6.1"
  }
 },
 "nbformat": 4,
 "nbformat_minor": 2
}
