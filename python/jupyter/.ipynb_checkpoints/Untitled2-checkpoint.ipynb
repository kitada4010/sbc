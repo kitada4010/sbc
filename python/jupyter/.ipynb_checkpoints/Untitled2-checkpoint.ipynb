{
 "cells": [
  {
   "cell_type": "code",
   "execution_count": 1,
   "metadata": {},
   "outputs": [
    {
     "ename": "ModuleNotFoundError",
     "evalue": "No module named 'swan'",
     "output_type": "error",
     "traceback": [
      "\u001b[0;31m---------------------------------------------------------------------------\u001b[0m",
      "\u001b[0;31mModuleNotFoundError\u001b[0m                       Traceback (most recent call last)",
      "\u001b[0;32m<ipython-input-1-21e2680a0397>\u001b[0m in \u001b[0;36m<module>\u001b[0;34m()\u001b[0m\n\u001b[0;32m----> 1\u001b[0;31m \u001b[0;32mfrom\u001b[0m \u001b[0mswan\u001b[0m \u001b[0;32mimport\u001b[0m \u001b[0mpycwt\u001b[0m\u001b[0;34m\u001b[0m\u001b[0m\n\u001b[0m",
      "\u001b[0;31mModuleNotFoundError\u001b[0m: No module named 'swan'"
     ]
    }
   ],
   "source": [
    "from swan import pycwt\n",
    "\n",
    "Fs = 1/0.01\n",
    "omega0 = 8\n",
    "# (1)　Freqを指定してcwt\n",
    "freqs=np.arange(0.1,20,0.025)\n",
    "r=pycwt.cwt_f(y,freqs,Fs,pycwt.Morlet(omega0))\n",
    "rr=np.abs(r)\n",
    "\n",
    "plt.rcParams['figure.figsize'] = (20, 6)\n",
    "fig = plt.figure()\n",
    "ax1 = fig.add_axes([0.1, 0.75, 0.7, 0.2])\n",
    "ax2 = fig.add_axes([0.1, 0.1, 0.7, 0.60], sharex=ax1)\n",
    "ax3 = fig.add_axes([0.83, 0.1, 0.03, 0.6])\n",
    "\n",
    "ax1.plot(x, y, 'k')\n",
    "\n",
    "img = ax2.imshow(np.flipud(rr), extent=[0, 20, freqs[0], freqs[-1]],\n",
    "                 aspect='auto', interpolation='nearest')\n",
    "\n",
    "fig.colorbar(img, cax=ax3)\n",
    "\n",
    "plt.show()\n"
   ]
  },
  {
   "cell_type": "code",
   "execution_count": 3,
   "metadata": {},
   "outputs": [],
   "source": [
    "import pywt\n",
    "import pickle\n",
    "import numpy as np\n",
    "import wave\n",
    "from pylab import *\n",
    "with open('/home/hera/nodoka/home2/nodoka/spike-data/25kHz-data/B36 Rd.pickle', mode='rb') as fp:\n",
    "#with open('/home/hera/nodoka/home2/nodoka/spike-data/25kHz-data/B36 Rd.pickle', mode='rb') as fp:\n",
    "#with open('/Volumes/NO NAME/25kHz-data/B36 Rd.pickle',mode='rb') as fp:\n",
    "    df = pickle.load(fp)\n",
    "\n",
    "#start = int(58.59/0.00004)\n",
    "#end = int(197.47/0.00004)\n",
    "#start = int(167.39/0.00004)\n",
    "#end = int(272.67/0.00004)\n",
    "#start = int(881.13744/0.00004)\n",
    "#end = int(881.35202/0.00004)\n",
    "\n",
    "starttime = 881.13744\n",
    "endtime = 881.35202\n",
    "start = int(starttime/0.00004)\n",
    "end = int(endtime/0.00004)\n",
    "datatime = []\n",
    "#print(df[start:end])\n",
    "#specdatab = np.array(df[start:end])\n",
    "for i in range(len(df[start:end])):\n",
    "#    print(i)\n",
    "    datatime.append([(starttime+(i*0.00004))])\n",
    "#print(datatime)\n",
    "\n",
    "plt.subplot(2, 2, 1)\n",
    "plt.plot(datatime,df[start:end])\n",
    "del datatime\n",
    "\n",
    "#data = df.dataframe([0], dtype='float')\n",
    "#data = (pd.Series(df[start:end], dtype=np.float64))\n",
    "#data = df.as_matrix(0,)#[start:end]\n",
    "specdatab = np.array(df[start:end])\n",
    "specdataa = specdatab.flatten()\n",
    "fp.close\n",
    "#print(specdataa)\n",
    "N = 1024\n",
    "hammingWindow = np.hamming(N)\n",
    "samplingrate = 25000\n",
    "length = (end - start)/samplingrate\n",
    "\n",
    "# FFTで用いるハミング窓\n",
    "hammingWindow = np.hamming(N)\n",
    "\n",
    "# スペクトログラムを描画\n",
    "plt.subplot(2, 2, 2)\n",
    "pxx, freqs, bins, im = plt.specgram(specdataa, NFFT=N, Fs=samplingrate, noverlap=0, window=hammingWindow)\n",
    "axis([0, length, 0, samplingrate / 2])\n",
    "xlabel(\"time [second]\")\n",
    "plt.ylim([0,2056])\n",
    "ylabel(\"frequency [Hz]\")\n",
    "plt.colorbar()\n"
   ]
  }
 ],
 "metadata": {
  "kernelspec": {
   "display_name": "Python 3",
   "language": "python",
   "name": "python3"
  },
  "language_info": {
   "codemirror_mode": {
    "name": "ipython",
    "version": 3
   },
   "file_extension": ".py",
   "mimetype": "text/x-python",
   "name": "python",
   "nbconvert_exporter": "python",
   "pygments_lexer": "ipython3",
   "version": "3.5.6"
  }
 },
 "nbformat": 4,
 "nbformat_minor": 2
}
