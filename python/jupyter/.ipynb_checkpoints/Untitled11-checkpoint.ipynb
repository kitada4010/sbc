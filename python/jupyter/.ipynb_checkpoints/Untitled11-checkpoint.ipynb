{
 "cells": [
  {
   "cell_type": "code",
   "execution_count": 9,
   "metadata": {},
   "outputs": [
    {
     "name": "stdout",
     "output_type": "stream",
     "text": [
      "<class 'numpy.ndarray'>\n",
      "データ数 = 150  特徴量 = 4\n",
      "データ数 = 150\n",
      "[1] score: 0.97\n",
      "[2] score: 0.97\n",
      "[3] score: 0.97\n",
      "[4] score: 0.97\n",
      "[5] score: 0.97\n",
      "[6] score: 0.97\n",
      "[7] score: 0.97\n",
      "[8] score: 0.97\n",
      "[9] score: 0.97\n",
      "[10] score: 0.97\n",
      "[11] score: 0.97\n",
      "[12] score: 0.97\n",
      "[13] score: 0.97\n",
      "[14] score: 0.97\n",
      "[15] score: 0.97\n",
      "[16] score: 0.97\n",
      "[17] score: 0.97\n",
      "[18] score: 0.97\n",
      "[19] score: 0.97\n",
      "[20] score: 0.97\n",
      "[21] score: 0.97\n",
      "[22] score: 0.97\n",
      "[23] score: 0.97\n",
      "[24] score: 0.95\n",
      "[25] score: 0.95\n",
      "[26] score: 0.95\n",
      "[27] score: 0.95\n",
      "[28] score: 0.92\n",
      "[29] score: 0.89\n",
      "[30] score: 0.95\n"
     ]
    },
    {
     "data": {
      "text/plain": [
       "[<matplotlib.lines.Line2D at 0x7f97b44ca128>]"
      ]
     },
     "execution_count": 9,
     "metadata": {},
     "output_type": "execute_result"
    },
    {
     "data": {
      "image/png": "[encoded data removed]",
      "text/plain": [
       "<Figure size 432x288 with 1 Axes>"
      ]
     },
     "metadata": {
      "needs_background": "light"
     },
     "output_type": "display_data"
    }
   ],
   "source": [
    "%matplotlib inline\n",
    "import numpy as np\n",
    "import pandas as pd\n",
    "import matplotlib.pyplot as plt\n",
    "\n",
    "from sklearn.model_selection import train_test_split\n",
    "\n",
    "# アヤメデータセット読み込み\n",
    "from sklearn.datasets import load_iris\n",
    "iris = load_iris()\n",
    "\n",
    "# 特徴量\n",
    "X = iris.data\n",
    "print(type(X))\n",
    "# 目的変数\n",
    "Y = iris.target\n",
    "\n",
    "\n",
    "# データ表示（特徴量）\n",
    "print(\"データ数 = %d  特徴量 = %d\" % (X.shape[0], X.shape[1]))\n",
    "\n",
    "\n",
    "# データ表示（目的変数）\n",
    "print(\"データ数 = %d\" % (Y.shape[0]))\n",
    "#print(Y)\n",
    "\n",
    "\n",
    "\n",
    "# トレーニング・テストデータ分割 #random_stateはシード値\n",
    "X_train, X_test, Y_train, Y_test = train_test_split(X, Y, random_state=0)\n",
    "\n",
    "#\n",
    "# K-近傍法\n",
    "#\n",
    "from sklearn.neighbors import KNeighborsClassifier\n",
    "\n",
    "list_nn = []\n",
    "list_score = []\n",
    "for k in range(1, 31): # K = 1~30\n",
    "  # KNeighborsClassifier\n",
    "  knc = KNeighborsClassifier(n_neighbors=k)\n",
    "  knc.fit(X_train, Y_train)\n",
    "\n",
    "  # 予測　\n",
    "  Y_pred = knc.predict(X_test)\n",
    "\n",
    "  # 評価 R^2\n",
    "  score = knc.score(X_test, Y_test)\n",
    "  print(\"[%d] score: {:.2f}\".format(score) % k)\n",
    "\n",
    "  list_nn.append(k)\n",
    "  list_score.append(score)\n",
    "\n",
    "# プロット\n",
    "plt.ylim(0.9, 1.0)\n",
    "plt.xlabel(\"n_neighbors\")\n",
    "plt.ylabel(\"score\")\n",
    "plt.plot(list_nn, list_score)\n"
   ]
  },
  {
   "cell_type": "code",
   "execution_count": 10,
   "metadata": {},
   "outputs": [
    {
     "name": "stdout",
     "output_type": "stream",
     "text": [
      "[[0.54714119 0.55157937 0.55791118 ... 0.19110328 0.19183707 0.19256303]\n",
      " [0.87118065 0.88937151 0.90629261 ... 0.05862074 0.05917878 0.05973952]\n",
      " [0.49737648 0.48432621 0.48341229 ... 0.09278425 0.09253215 0.09226711]\n",
      " ...\n",
      " [1.         0.94290336 0.88684891 ... 0.08900887 0.08922451 0.08943825]\n",
      " [0.81807262 0.81994716 0.82242531 ... 0.18155292 0.18057107 0.1795939 ]\n",
      " [0.43833753 0.43285091 0.42771296 ... 0.46955977 0.4686618  0.46775493]]\n",
      "データ数 = 256  特徴量 = 874\n",
      "データ数 = 256\n",
      "[3] score: 0.42\n"
     ]
    },
    {
     "data": {
      "text/plain": [
       "[<matplotlib.lines.Line2D at 0x7f97b420ac88>]"
      ]
     },
     "execution_count": 10,
     "metadata": {},
     "output_type": "execute_result"
    },
    {
     "data": {
      "image/png": "[encoded data removed]",
      "text/plain": [
       "<Figure size 432x288 with 1 Axes>"
      ]
     },
     "metadata": {
      "needs_background": "light"
     },
     "output_type": "display_data"
    }
   ],
   "source": [
    "%matplotlib inline\n",
    "import numpy as np\n",
    "import pandas as pd\n",
    "import matplotlib.pyplot as plt\n",
    "#spec = pd.read_csv('150Hzhpassdata.csv', header=None)\n",
    "\n",
    "#ubuntu\n",
    "# 特徴量\n",
    "#X = np.loadtxt(\"/home/nodoka/18-kitada-bachelor-paper/knn/feature-data/data.csv\",delimiter=\",\")\n",
    "# 目的変数\n",
    "#Y = np.loadtxt(\"/home/nodoka/18-kitada-bachelor-paper/knn/feature-data/label.csv\",delimiter=\",\")\n",
    "\n",
    "#vine linux\n",
    "# 特徴量\n",
    "X = np.loadtxt(\"/home/hera/nodoka/home2/nodoka/paperplan/knn/feature-data/data.csv\",delimiter=\",\")\n",
    "print(X)\n",
    "# 目的変数\n",
    "Y = np.loadtxt(\"/home/hera/nodoka/home2/nodoka/paperplan/knn/feature-data/label.csv\",delimiter=\",\")\n",
    "\n",
    "\n",
    "# データ表示（特徴量）\n",
    "print(\"データ数 = %d  特徴量 = %d\" % (X.shape[0], X.shape[1]))\n",
    "\n",
    "\n",
    "# データ表示（目的変数）\n",
    "print(\"データ数 = %d\" % (Y.shape[0]))\n",
    "#print(Y)\n",
    "\n",
    "\n",
    "from sklearn.neighbors import KNeighborsClassifier\n",
    "\n",
    "# トレーニング・テストデータ分割\n",
    "X_train, X_test, Y_train, Y_test = train_test_split(X, Y, random_state=0)\n",
    "\n",
    "#\n",
    "# K-近傍法\n",
    "#\n",
    "\n",
    "\n",
    "list_nn = []\n",
    "list_score = []\n",
    "k=3\n",
    "# KNeighborsClassifier\n",
    "knc = KNeighborsClassifier(n_neighbors=k)\n",
    "knc.fit(X_train, Y_train)\n",
    "\n",
    "# 予測　\n",
    "Y_pred = knc.predict(X_test)\n",
    "\n",
    "# 評価 R^2\n",
    "score = knc.score(X_test, Y_test)\n",
    "print(\"[%d] score: {:.2f}\".format(score) % k)\n",
    "\n",
    "list_nn.append(k)\n",
    "list_score.append(score)\n",
    "\n",
    "# プロット\n",
    "plt.ylim(0.9, 1.0)\n",
    "plt.xlabel(\"n_neighbors\")\n",
    "plt.ylabel(\"score\")\n",
    "plt.plot(list_nn, list_score)\n",
    "\n",
    "# = df.iloc[train_size:].copy()\n",
    "#test_df[\"pred_label\"] = pred_labels\n",
    " \n",
    "#test_df.plot(kind=\"scatter\", x=0,y=1,c=\"label\", cmap=\"winter\")\n",
    "#plt.title(\"true label\")\n"
   ]
  },
  {
   "cell_type": "code",
   "execution_count": null,
   "metadata": {},
   "outputs": [],
   "source": []
  }
 ],
 "metadata": {
  "kernelspec": {
   "display_name": "Python 3",
   "language": "python",
   "name": "python3"
  },
  "language_info": {
   "codemirror_mode": {
    "name": "ipython",
    "version": 3
   },
   "file_extension": ".py",
   "mimetype": "text/x-python",
   "name": "python",
   "nbconvert_exporter": "python",
   "pygments_lexer": "ipython3",
   "version": "3.5.6"
  }
 },
 "nbformat": 4,
 "nbformat_minor": 2
}
