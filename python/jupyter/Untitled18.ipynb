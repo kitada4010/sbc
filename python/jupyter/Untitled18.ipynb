{
 "cells": [
  {
   "cell_type": "code",
   "execution_count": null,
   "metadata": {},
   "outputs": [],
   "source": [
    "time_file = open(\"/home/hera/nodoka/yuni/2048-data/restarint/B32L/restraint-B32-HL-1-500-pscut.csv\", 'r')"
   ]
  },
  {
   "cell_type": "code",
   "execution_count": 28,
   "metadata": {},
   "outputs": [
    {
     "name": "stdout",
     "output_type": "stream",
     "text": [
      "0.0\n",
      "1.0\n",
      "15643.666666699999\n",
      "15644\n"
     ]
    }
   ],
   "source": [
    "a=1.0\n",
    "b= a//3.0\n",
    "c = a%3.0\n",
    "\n",
    "d = ((b*50000) + (c*16666.6666667)-(2048/2)+1)\n",
    "print(b)\n",
    "print(c)\n",
    "print(d)\n",
    "print(int(d)+1)"
   ]
  },
  {
   "cell_type": "code",
   "execution_count": null,
   "metadata": {},
   "outputs": [],
   "source": [
    "a=1\n",
    "print(a*25000)\n",
    "print((a*25000)-(3072/2)+1)"
   ]
  },
  {
   "cell_type": "code",
   "execution_count": null,
   "metadata": {},
   "outputs": [],
   "source": [
    "import cupy as cp\n",
    "A = cp.arange(9).reshape(3, 3).astype('f') #cupy上で3*3の行列を生成\n",
    "B = cp.arange(9).reshape(3, 3).astype('f') #cupy上で3*3の行列を生成\n",
    "print('A = \\n', A)\n",
    "print('B = \\n', B)"
   ]
  }
 ],
 "metadata": {
  "kernelspec": {
   "display_name": "Python 3",
   "language": "python",
   "name": "python3"
  },
  "language_info": {
   "codemirror_mode": {
    "name": "ipython",
    "version": 3
   },
   "file_extension": ".py",
   "mimetype": "text/x-python",
   "name": "python",
   "nbconvert_exporter": "python",
   "pygments_lexer": "ipython3",
   "version": "3.7.0"
  }
 },
 "nbformat": 4,
 "nbformat_minor": 2
}
