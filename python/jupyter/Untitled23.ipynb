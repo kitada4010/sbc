{
 "cells": [
  {
   "cell_type": "code",
   "execution_count": 1,
   "metadata": {},
   "outputs": [
    {
     "ename": "IndentationError",
     "evalue": "unexpected indent (<ipython-input-1-943a14ca37e3>, line 25)",
     "output_type": "error",
     "traceback": [
      "\u001b[0;36m  File \u001b[0;32m\"<ipython-input-1-943a14ca37e3>\"\u001b[0;36m, line \u001b[0;32m25\u001b[0m\n\u001b[0;31m    end_number = (np.where(sheet_df1[i]['INFORMATION']==\"CHANNEL\")[0][1]) - cannel_end\u001b[0m\n\u001b[0m    ^\u001b[0m\n\u001b[0;31mIndentationError\u001b[0m\u001b[0;31m:\u001b[0m unexpected indent\n"
     ]
    }
   ],
   "source": [
    "file1 = pd.ExcelFile(\"../../maleB30data/B30-male-R2.xlsx\")\n",
    "\n",
    "sheet_df1 = file1.parse(file1.sheet_names, header=None)\n",
    "\n",
    "#cmap = plt.get_cmap(\"tab20\")\n",
    "\n",
    "sheet_names1 = file1.sheet_names\n",
    "\n",
    "cannel_start = 10\n",
    "cannel_end = 5\n",
    "\n",
    "time_leng = 1\n",
    "pattern_leng = 5\n",
    "#count_data\n",
    "\n",
    "    #ファイル1のデータカウント\n",
    "    pattern_dict1 = {}\n",
    "    sumpsth = 0\n",
    "    for i, name in enumerate(sheet_names1):\n",
    "        sheet_df1[i] = file1.parse(name)\n",
    "        print(sheet_df1[i].columns[0], i)\n",
    "        if(sheet_df1[i].columns[0] == \"NaN\" ) :\n",
    "            print(name)\n",
    "            break\n",
    "        #print(sheet_df1[i][1][1])\n",
    "        start_number = (np.where(sheet_df1[i]['INFORMATION']==\"CHANNEL\")[0][0]) \n",
    "+cannel_start\n",
    "        end_number = (np.where(sheet_df1[i]['INFORMATION']==\"CHANNEL\")[0][1]) - cannel_end\n",
    "        sig1 = (sheet_df1[i]['Unnamed: 3'][start_number : end_number]).values\n",
    "        sig1 = sig1.astype(\"int\")\n",
    "        #print(len(sig1))\n",
    "        sig1 = np.trim_zeros(sig1)\n",
    "#        print()\n",
    "        leng = len(sig1)\n",
    "        psth = np.zeros(int((leng/time_leng)+1), dtype=np.int)\n",
    "        l = 0\n",
    "        for k in range(0, leng, time_leng) :\n",
    "            psth[l] = sig1[k : k+time_leng].sum()\n",
    "            l += 1\n",
    "#        print(sig1[len(psth)-1])\n",
    "        if(len(psth) > pattern_leng) : \n",
    "            for k in range(len(psth) - pattern_leng +1) :   # PSTHデータからはパターンを重ねて検索している\n",
    "                if (str(psth[k : k + pattern_leng]) in pattern_dict1) : \n",
    "                    pattern_dict1[str(psth[k : k + pattern_leng])] += 1\n",
    "                else : \n",
    "                    pattern_dict1[str(psth[k : k + pattern_leng])] = 1\n",
    "            sumpsth += (len(psth) -pattern_leng+1)"
   ]
  }
 ],
 "metadata": {
  "kernelspec": {
   "display_name": "Python 3",
   "language": "python",
   "name": "python3"
  },
  "language_info": {
   "codemirror_mode": {
    "name": "ipython",
    "version": 3
   },
   "file_extension": ".py",
   "mimetype": "text/x-python",
   "name": "python",
   "nbconvert_exporter": "python",
   "pygments_lexer": "ipython3",
   "version": "3.6.8"
  }
 },
 "nbformat": 4,
 "nbformat_minor": 2
}
